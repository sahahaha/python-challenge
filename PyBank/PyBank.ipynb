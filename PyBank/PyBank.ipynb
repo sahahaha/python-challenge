{
 "cells": [
  {
   "cell_type": "code",
   "execution_count": 1,
   "metadata": {},
   "outputs": [],
   "source": [
    "import os\n",
    "import csv"
   ]
  },
  {
   "cell_type": "code",
   "execution_count": 2,
   "metadata": {},
   "outputs": [
    {
     "data": {
      "text/plain": [
       "'C:\\\\Users\\\\Owner\\\\Desktop\\\\python-challenge\\\\PyBank\\\\Resources\\\\budget_data.csv'"
      ]
     },
     "execution_count": 2,
     "metadata": {},
     "output_type": "execute_result"
    }
   ],
   "source": [
    "#Making filepath\n",
    "cwkdir = os.getcwd()\n",
    "filepath = os.path.join(cwkdir,'Resources','budget_data.csv')\n",
    "filepath"
   ]
  },
  {
   "cell_type": "code",
   "execution_count": 3,
   "metadata": {},
   "outputs": [],
   "source": [
    "# initializing variables\n",
    "month_count = 0; total = 0; Value = 0; Diff = 0; Max = 0; Min = 0"
   ]
  },
  {
   "cell_type": "code",
   "execution_count": 6,
   "metadata": {},
   "outputs": [
    {
     "name": "stdout",
     "output_type": "stream",
     "text": [
      "Financial Analysis\n",
      "\n",
      "----------------------------\n",
      "\n"
     ]
    },
    {
     "ename": "KeyError",
     "evalue": "0",
     "output_type": "error",
     "traceback": [
      "\u001b[1;31m---------------------------------------------------------------------------\u001b[0m",
      "\u001b[1;31mKeyError\u001b[0m                                  Traceback (most recent call last)",
      "\u001b[1;32m<ipython-input-6-c10d37c3094b>\u001b[0m in \u001b[0;36m<module>\u001b[1;34m\u001b[0m\n\u001b[0;32m      5\u001b[0m      \u001b[0mprint\u001b[0m\u001b[1;33m(\u001b[0m\u001b[1;34mf'----------------------------'\u001b[0m\u001b[1;33m+\u001b[0m\u001b[1;34m'\\n'\u001b[0m\u001b[1;33m)\u001b[0m\u001b[1;33m\u001b[0m\u001b[1;33m\u001b[0m\u001b[0m\n\u001b[0;32m      6\u001b[0m      \u001b[1;32mfor\u001b[0m \u001b[0mi\u001b[0m \u001b[1;32min\u001b[0m \u001b[0mcsvreader\u001b[0m\u001b[1;33m:\u001b[0m\u001b[1;33m\u001b[0m\u001b[1;33m\u001b[0m\u001b[0m\n\u001b[1;32m----> 7\u001b[1;33m          \u001b[0mmonth\u001b[0m \u001b[1;33m=\u001b[0m \u001b[0mi\u001b[0m\u001b[1;33m[\u001b[0m\u001b[1;36m0\u001b[0m\u001b[1;33m]\u001b[0m\u001b[1;33m\u001b[0m\u001b[1;33m\u001b[0m\u001b[0m\n\u001b[0m\u001b[0;32m      8\u001b[0m          \u001b[0mAmount\u001b[0m \u001b[1;33m=\u001b[0m \u001b[0mi\u001b[0m\u001b[1;33m[\u001b[0m\u001b[1;36m1\u001b[0m\u001b[1;33m]\u001b[0m\u001b[1;33m\u001b[0m\u001b[1;33m\u001b[0m\u001b[0m\n\u001b[0;32m      9\u001b[0m          \u001b[0miAmount\u001b[0m \u001b[1;33m=\u001b[0m \u001b[0mint\u001b[0m\u001b[1;33m(\u001b[0m\u001b[0mAmount\u001b[0m\u001b[1;33m)\u001b[0m\u001b[1;33m\u001b[0m\u001b[1;33m\u001b[0m\u001b[0m\n",
      "\u001b[1;31mKeyError\u001b[0m: 0"
     ]
    }
   ],
   "source": [
    "with open(filepath, newline='') as csvfile:\n",
    "     csvreader = csv.DictReader(csvfile, delimiter=',')\n",
    "     csv_header = next(csvreader)\n",
    "     print(f'Financial Analysis'+'\\n')\n",
    "     print(f'----------------------------'+'\\n')\n",
    "     for i in csvreader:\n",
    "         month = i[0]\n",
    "         Amount = i[1]\n",
    "         iAmount = int(Amount)\n",
    "         Diff =  iAmount - Value\n",
    "         #Profit increase\n",
    "         if Max < Diff:\n",
    "            Max = Diff\n",
    "            MaxDate = month\n",
    "         #Profit decrease\n",
    "         if Min > Diff:\n",
    "            Min = Diff\n",
    "            MinDate = month\n",
    "\n",
    "         Value = iAmount   \n",
    "         # Get total months (financial analysis)\n",
    "         month_count = month_count + 1\n",
    "         total += int(Amount) \n",
    "    \n",
    "\n",
    "print(f'Total Months : {month_count}')\n",
    "\n",
    "print(f'Total: $ {total}')\n",
    "\n",
    "print(f'Greatest Increase in Profits: {MaxDate} : ($ {Max})')\n",
    "\n",
    "print(f'Greatest Decrease in Profits: {MinDate} : ($ {Min})')"
   ]
  },
  {
   "cell_type": "code",
   "execution_count": null,
   "metadata": {},
   "outputs": [],
   "source": []
  }
 ],
 "metadata": {
  "kernelspec": {
   "display_name": "Conda [PythonData]",
   "language": "python",
   "name": "pythondata"
  },
  "language_info": {
   "codemirror_mode": {
    "name": "ipython",
    "version": 3
   },
   "file_extension": ".py",
   "mimetype": "text/x-python",
   "name": "python",
   "nbconvert_exporter": "python",
   "pygments_lexer": "ipython3",
   "version": "3.6.9"
  }
 },
 "nbformat": 4,
 "nbformat_minor": 2
}
