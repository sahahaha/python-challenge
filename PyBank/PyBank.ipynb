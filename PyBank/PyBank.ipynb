{
 "cells": [
  {
   "cell_type": "code",
   "execution_count": 8,
   "metadata": {},
   "outputs": [],
   "source": [
    "import os\n",
    "import csv"
   ]
  },
  {
   "cell_type": "code",
   "execution_count": 12,
   "metadata": {},
   "outputs": [
    {
     "data": {
      "text/plain": [
       "'C:\\\\Users\\\\Owner\\\\Desktop\\\\python-challenge\\\\PyBank\\\\Resources\\\\budget_data.csv'"
      ]
     },
     "execution_count": 12,
     "metadata": {},
     "output_type": "execute_result"
    }
   ],
   "source": [
    "#Making filepath\n",
    "cwkdir = os.getcwd()\n",
    "filepath = os.path.join( cwkdir,'Resources','budget_data.csv')\n",
    "filepath"
   ]
  },
  {
   "cell_type": "code",
   "execution_count": 21,
   "metadata": {},
   "outputs": [],
   "source": [
    "# initializing variables\n",
    "mcount = 0; total = 0; PreValue = 0; Diff = 0; DiffMax = 0; DiffMin = 0"
   ]
  },
  {
   "cell_type": "code",
   "execution_count": 23,
   "metadata": {},
   "outputs": [
    {
     "name": "stdout",
     "output_type": "stream",
     "text": [
      "Financial Analysis\n",
      "\n",
      "----------------------------\n",
      "\n",
      "Total Months : 172\n",
      "Total: $ 76765156\n",
      "Greatest Increase in Profits: Feb-2012 : ($ 1926159)\n",
      "Greatest Decrease in Profits: Sep-2013 : ($ -2196167)\n"
     ]
    }
   ],
   "source": [
    "with open(filepath, newline='') as csvfile:\n",
    "     csvreader = csv.reader(csvfile, delimiter=',')\n",
    "     csv_header = next(csvreader)\n",
    "     print(f'Financial Analysis'+'\\n')\n",
    "     print(f'----------------------------'+'\\n')\n",
    "     for i in csvreader:\n",
    "         month = i[0]\n",
    "         Amount = i[1]\n",
    "         iAmount = int(Amount)\n",
    "         Diff =  iAmount - PreValue\n",
    "         #Placeholder to track greatest increase in profits (financial analysis)\n",
    "         if DiffMax < Diff:\n",
    "            DiffMax = Diff\n",
    "            DiffMaxDate = month\n",
    "         #Placeholder to track greatest decrease in profits (financial analysis)\n",
    "         if DiffMin > Diff:\n",
    "            DiffMin = Diff\n",
    "            DiffMinDate = month\n",
    "\n",
    "         PreValue = iAmount   \n",
    "         # Get total months (financial analysis)\n",
    "         mcount = mcount + 1\n",
    "         total += int(Amount) \n",
    "\n",
    "## Display Results ##      \n",
    "#The total number of months included in the dataset\n",
    "print(f'Total Months : {mcount}')\n",
    "#The total net amount of \"Profit/Losses\" over the entire period\n",
    "print(f'Total: $ {total}')\n",
    "# Greatest increase in profit\n",
    "print(f'Greatest Increase in Profits: {DiffMaxDate} : ($ {DiffMax})')\n",
    "# Greatest increase in profit\n",
    "print(f'Greatest Decrease in Profits: {DiffMinDate} : ($ {DiffMin})')"
   ]
  },
  {
   "cell_type": "code",
   "execution_count": null,
   "metadata": {},
   "outputs": [],
   "source": []
  }
 ],
 "metadata": {
  "kernelspec": {
   "display_name": "Conda [PythonData]",
   "language": "python",
   "name": "pythondata"
  },
  "language_info": {
   "codemirror_mode": {
    "name": "ipython",
    "version": 3
   },
   "file_extension": ".py",
   "mimetype": "text/x-python",
   "name": "python",
   "nbconvert_exporter": "python",
   "pygments_lexer": "ipython3",
   "version": "3.6.9"
  }
 },
 "nbformat": 4,
 "nbformat_minor": 2
}
