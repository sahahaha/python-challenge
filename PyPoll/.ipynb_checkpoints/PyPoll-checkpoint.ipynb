{
 "cells": [
  {
   "cell_type": "code",
   "execution_count": 1,
   "metadata": {},
   "outputs": [],
   "source": [
    "import os\n",
    "import csv"
   ]
  },
  {
   "cell_type": "code",
   "execution_count": 12,
   "metadata": {},
   "outputs": [
    {
     "data": {
      "text/plain": [
       "'C:\\\\Users\\\\Owner\\\\Desktop\\\\python-challenge\\\\PyPoll\\\\Resources\\\\election_data.csv'"
      ]
     },
     "execution_count": 12,
     "metadata": {},
     "output_type": "execute_result"
    }
   ],
   "source": [
    "cwkdir = os.getcwd()\n",
    "filepath = os.path.join( cwkdir,'Resources','election_data.csv')\n",
    "filepath"
   ]
  },
  {
   "cell_type": "code",
   "execution_count": 16,
   "metadata": {},
   "outputs": [],
   "source": [
    "total = 0; kcount = 0; ccount = 0; lcount = 0; ocount = 0; maxvote = 0"
   ]
  },
  {
   "cell_type": "code",
   "execution_count": 17,
   "metadata": {},
   "outputs": [],
   "source": [
    "def percentage (part, whole):\n",
    "    return 100 * float(part)/float(whole)"
   ]
  },
  {
   "cell_type": "code",
   "execution_count": 19,
   "metadata": {},
   "outputs": [
    {
     "name": "stdout",
     "output_type": "stream",
     "text": [
      "Election Results\n",
      "\n",
      "-------------------------------\n",
      "\n",
      "Total Votes: 7042004\n",
      "\n",
      "-------------------------------\n",
      "\n",
      "Khan Percentage: 63.000%  (4436462)\n",
      "Correy Percentage: 20.000%  (1408400)\n",
      "Li Percentage: 14.000%  (985880)\n",
      "O'Tooley Percentage: 3.000%  (211260)\n",
      "--------------------------------\n",
      "\n",
      "Winner: Khan \n",
      "\n",
      "--------------------------------\n",
      "\n"
     ]
    }
   ],
   "source": [
    "with open(filepath, newline='') as csvfile:\n",
    "     csvreader = csv.reader(csvfile, delimiter=',')\n",
    "\n",
    "     for i in csvreader:\n",
    "         voterid = i[0]\n",
    "         country = i[1]\n",
    "         candidate = i[2]\n",
    "         # Find Total Vote Count\n",
    "         total = total + 1\n",
    "\n",
    "         # Find votecount by candidates\n",
    "         if candidate ==\"Khan\":\n",
    "            kcount = kcount + 1\n",
    "         if candidate ==\"Correy\":\n",
    "            ccount = ccount + 1\n",
    "         if candidate ==\"Li\":\n",
    "            lcount = lcount + 1\n",
    "         if candidate ==\"O'Tooley\":\n",
    "            ocount = ocount + 1\n",
    "            \n",
    "     candidatevote = {\"Khan\": kcount,\"Correy\": ccount,\"Li\" :lcount, \"O'Tooley\": ocount}\n",
    "    \n",
    "     for candidate, value in candidatevote.items():\n",
    "         if value > maxvote:\n",
    "            maxvote = value\n",
    "            winner = candidate\n",
    "# Display results       \n",
    "print(f'Election Results'+'\\n')\n",
    "print(f'-------------------------------'+'\\n')\n",
    "print(f'Total Votes: {total}'+'\\n')\n",
    "print(f'-------------------------------'+'\\n')\n",
    "\n",
    "print(f'Khan Percentage: {percentage(kcount,total):.3f}%  ({kcount})')\n",
    "print(f'Correy Percentage: {percentage(ccount,total):.3f}%  ({ccount})')\n",
    "print(f'Li Percentage: {percentage(lcount,total):.3f}%  ({lcount})')\n",
    "print(f'O\\'Tooley Percentage: {percentage(ocount,total):.3f}%  ({ocount})')\n",
    "print(f'--------------------------------'+'\\n')\n",
    "print(f'Winner: {winner} '+'\\n')\n",
    "print(f'--------------------------------'+'\\n')"
   ]
  },
  {
   "cell_type": "code",
   "execution_count": null,
   "metadata": {},
   "outputs": [],
   "source": []
  }
 ],
 "metadata": {
  "kernelspec": {
   "display_name": "Conda [PythonData]",
   "language": "python",
   "name": "pythondata"
  },
  "language_info": {
   "codemirror_mode": {
    "name": "ipython",
    "version": 3
   },
   "file_extension": ".py",
   "mimetype": "text/x-python",
   "name": "python",
   "nbconvert_exporter": "python",
   "pygments_lexer": "ipython3",
   "version": "3.6.9"
  }
 },
 "nbformat": 4,
 "nbformat_minor": 2
}
